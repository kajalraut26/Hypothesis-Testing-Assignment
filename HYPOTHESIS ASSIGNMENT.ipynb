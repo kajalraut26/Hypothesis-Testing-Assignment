{
 "cells": [
  {
   "cell_type": "markdown",
   "id": "e93fed8c",
   "metadata": {},
   "source": [
    "Q1.A F&B manager wants to determine whether there is any significant difference in the diameter of the cutlet between two units.\n",
    "A randomly selected sample of cutlets was collected from both units and measured? Analyze the data and draw inferences at 5% \n",
    "significance level. Please state the assumptions and tests that you carried out to check validity of the assumptions.\n",
    "\n",
    "Solution: \n",
    "Here we will use 2 sample t test.\n",
    "\n",
    "Null hypothesis(H0): Data are normal (p-value>alpha)\n",
    "Alternate hypothesis(H1): Data are not normal (p-value<alpha)\n",
    "\n"
   ]
  },
  {
   "cell_type": "code",
   "execution_count": 3,
   "id": "45d76728",
   "metadata": {},
   "outputs": [],
   "source": [
    "import pandas as pd"
   ]
  },
  {
   "cell_type": "code",
   "execution_count": 7,
   "id": "722e64c5",
   "metadata": {},
   "outputs": [
    {
     "data": {
      "text/html": [
       "<div>\n",
       "<style scoped>\n",
       "    .dataframe tbody tr th:only-of-type {\n",
       "        vertical-align: middle;\n",
       "    }\n",
       "\n",
       "    .dataframe tbody tr th {\n",
       "        vertical-align: top;\n",
       "    }\n",
       "\n",
       "    .dataframe thead th {\n",
       "        text-align: right;\n",
       "    }\n",
       "</style>\n",
       "<table border=\"1\" class=\"dataframe\">\n",
       "  <thead>\n",
       "    <tr style=\"text-align: right;\">\n",
       "      <th></th>\n",
       "      <th>Unit A</th>\n",
       "      <th>Unit B</th>\n",
       "    </tr>\n",
       "  </thead>\n",
       "  <tbody>\n",
       "    <tr>\n",
       "      <th>0</th>\n",
       "      <td>6.8090</td>\n",
       "      <td>6.7703</td>\n",
       "    </tr>\n",
       "    <tr>\n",
       "      <th>1</th>\n",
       "      <td>6.4376</td>\n",
       "      <td>7.5093</td>\n",
       "    </tr>\n",
       "    <tr>\n",
       "      <th>2</th>\n",
       "      <td>6.9157</td>\n",
       "      <td>6.7300</td>\n",
       "    </tr>\n",
       "    <tr>\n",
       "      <th>3</th>\n",
       "      <td>7.3012</td>\n",
       "      <td>6.7878</td>\n",
       "    </tr>\n",
       "    <tr>\n",
       "      <th>4</th>\n",
       "      <td>7.4488</td>\n",
       "      <td>7.1522</td>\n",
       "    </tr>\n",
       "  </tbody>\n",
       "</table>\n",
       "</div>"
      ],
      "text/plain": [
       "   Unit A  Unit B\n",
       "0  6.8090  6.7703\n",
       "1  6.4376  7.5093\n",
       "2  6.9157  6.7300\n",
       "3  7.3012  6.7878\n",
       "4  7.4488  7.1522"
      ]
     },
     "execution_count": 7,
     "metadata": {},
     "output_type": "execute_result"
    }
   ],
   "source": [
    "df = pd.read_csv(\"D:\\\\Assignment datasets\\\\Cutlets.csv\")\n",
    "df.head()"
   ]
  },
  {
   "cell_type": "code",
   "execution_count": 8,
   "id": "f0995bc1",
   "metadata": {},
   "outputs": [
    {
     "name": "stdout",
     "output_type": "stream",
     "text": [
      "0.3199819028377533\n",
      "Ho is accepted and H1 is rejected\n"
     ]
    }
   ],
   "source": [
    "#Normality test:\n",
    "#Normality test for unit A\n",
    "#For unit A;\n",
    "from scipy.stats import shapiro\n",
    "statistic,pvalue = shapiro(df[\"Unit A\"])\n",
    "print(pvalue)\n",
    "\n",
    "alpha = 0.05\n",
    "\n",
    "if pvalue<alpha:\n",
    "    print(\"Ho is rejected and H1 is accepted\")\n",
    "else:\n",
    "    print(\"Ho is accepted and H1 is rejected\")\n",
    "\n"
   ]
  },
  {
   "cell_type": "code",
   "execution_count": 9,
   "id": "b710b66b",
   "metadata": {},
   "outputs": [
    {
     "name": "stdout",
     "output_type": "stream",
     "text": [
      "0.5224985480308533\n",
      "Ho is accepted and H1 is rejected\n"
     ]
    }
   ],
   "source": [
    "#For unit B; \n",
    "from scipy.stats import shapiro\n",
    "statistic,pvalue = shapiro(df[\"Unit B\"])\n",
    "print(pvalue)\n",
    "\n",
    "alpha = 0.05\n",
    "\n",
    "if pvalue<alpha:\n",
    "    print(\"Ho is rejected and H1 is accepted\")\n",
    "else:\n",
    "    print(\"Ho is accepted and H1 is rejected\")\n",
    "\n"
   ]
  },
  {
   "cell_type": "code",
   "execution_count": null,
   "id": "66fa4cbb",
   "metadata": {},
   "outputs": [],
   "source": [
    "# Two sample t- test\n",
    "\n",
    "Null hypothesis(H0): µ1= µ2 (population mean of unit A is equal to unit B)\n",
    "Alternate hypothesis(H1): µ1≠ µ2 (population mean of unit A is not equal to unit B)\n"
   ]
  },
  {
   "cell_type": "code",
   "execution_count": 10,
   "id": "eced3be7",
   "metadata": {},
   "outputs": [
    {
     "name": "stdout",
     "output_type": "stream",
     "text": [
      "zcalculated value:  0.7228688704678063\n",
      "p-value:  0.4722394724599501\n",
      "Ho is accepted and H1 is rejected\n"
     ]
    }
   ],
   "source": [
    "from scipy import stats\n",
    "from scipy import stats as twosample\n",
    "\n",
    "zcalc, pval = twosample.ttest_ind(df[\"Unit A\"] ,df[\"Unit B\"])\n",
    "\n",
    "print(\"zcalculated value: \",zcalc)\n",
    "print(\"p-value: \",pval)\n",
    "\n",
    "alpha = 0.05\n",
    "\n",
    "if pvalue<alpha:\n",
    "    print(\"Ho is rejected and H1 is accepted\")\n",
    "else:\n",
    "    print(\"Ho is accepted and H1 is rejected\")\n"
   ]
  },
  {
   "cell_type": "code",
   "execution_count": null,
   "id": "99ef1d46",
   "metadata": {},
   "outputs": [],
   "source": [
    "Results:\n",
    "\n",
    "The p-value of two sample t-test is equals to 0.4722 which is greater than the significance level alpha(0.05).\n",
    "Hence, null hypothesis accepted.\n",
    "\n",
    "This implies that we can say that the population mean of Unit A is statistically not different from population mean of Unit B.\n"
   ]
  },
  {
   "cell_type": "code",
   "execution_count": null,
   "id": "fde48c96",
   "metadata": {},
   "outputs": [],
   "source": [
    "Q2.A hospital wants to determine whether there is any difference in the average Turn Around Time (TAT) of reports of the\n",
    "laboratories on their preferred list. They collected a random sample and recorded TAT for reports of 4 laboratories.\n",
    "TAT is defined as sample collected to report dispatch.\n",
    "   \n",
    "Analyze the data and determine whether there is any difference in average TAT among the different laboratories at 5% \n",
    "significance level.\n",
    " Minitab File: LabTAT.mtw\n",
    "\n",
    "Solution:\n",
    "Here we will use ANOVA-one way test.\n",
    "\n",
    "Hypothesis:\n",
    "Null hypothesis(H0): µ1= µ2 = µ3 = µ4(All the averages are same)\n",
    "Alternate hypothesis(H1): At least one labs average TAT is different\n"
   ]
  },
  {
   "cell_type": "code",
   "execution_count": 12,
   "id": "e6dc3bf6",
   "metadata": {},
   "outputs": [
    {
     "data": {
      "text/html": [
       "<div>\n",
       "<style scoped>\n",
       "    .dataframe tbody tr th:only-of-type {\n",
       "        vertical-align: middle;\n",
       "    }\n",
       "\n",
       "    .dataframe tbody tr th {\n",
       "        vertical-align: top;\n",
       "    }\n",
       "\n",
       "    .dataframe thead th {\n",
       "        text-align: right;\n",
       "    }\n",
       "</style>\n",
       "<table border=\"1\" class=\"dataframe\">\n",
       "  <thead>\n",
       "    <tr style=\"text-align: right;\">\n",
       "      <th></th>\n",
       "      <th>Laboratory 1</th>\n",
       "      <th>Laboratory 2</th>\n",
       "      <th>Laboratory 3</th>\n",
       "      <th>Laboratory 4</th>\n",
       "    </tr>\n",
       "  </thead>\n",
       "  <tbody>\n",
       "    <tr>\n",
       "      <th>0</th>\n",
       "      <td>185.35</td>\n",
       "      <td>165.53</td>\n",
       "      <td>176.70</td>\n",
       "      <td>166.13</td>\n",
       "    </tr>\n",
       "    <tr>\n",
       "      <th>1</th>\n",
       "      <td>170.49</td>\n",
       "      <td>185.91</td>\n",
       "      <td>198.45</td>\n",
       "      <td>160.79</td>\n",
       "    </tr>\n",
       "    <tr>\n",
       "      <th>2</th>\n",
       "      <td>192.77</td>\n",
       "      <td>194.92</td>\n",
       "      <td>201.23</td>\n",
       "      <td>185.18</td>\n",
       "    </tr>\n",
       "    <tr>\n",
       "      <th>3</th>\n",
       "      <td>177.33</td>\n",
       "      <td>183.00</td>\n",
       "      <td>199.61</td>\n",
       "      <td>176.42</td>\n",
       "    </tr>\n",
       "    <tr>\n",
       "      <th>4</th>\n",
       "      <td>193.41</td>\n",
       "      <td>169.57</td>\n",
       "      <td>204.63</td>\n",
       "      <td>152.60</td>\n",
       "    </tr>\n",
       "  </tbody>\n",
       "</table>\n",
       "</div>"
      ],
      "text/plain": [
       "   Laboratory 1  Laboratory 2  Laboratory 3  Laboratory 4\n",
       "0        185.35        165.53        176.70        166.13\n",
       "1        170.49        185.91        198.45        160.79\n",
       "2        192.77        194.92        201.23        185.18\n",
       "3        177.33        183.00        199.61        176.42\n",
       "4        193.41        169.57        204.63        152.60"
      ]
     },
     "execution_count": 12,
     "metadata": {},
     "output_type": "execute_result"
    }
   ],
   "source": [
    "import pandas as pd\n",
    "df = pd.read_csv(\"D:\\\\Assignment datasets\\\\LabTAT.csv\")\n",
    "df.head()"
   ]
  },
  {
   "cell_type": "code",
   "execution_count": 13,
   "id": "95dbd4ba",
   "metadata": {},
   "outputs": [
    {
     "data": {
      "text/plain": [
       "2.6236"
      ]
     },
     "execution_count": 13,
     "metadata": {},
     "output_type": "execute_result"
    }
   ],
   "source": [
    "# FTABLE VALUE \n",
    "import scipy.stats as ftable\n",
    "ft = ftable.f(dfn=3, dfd=476)\n",
    "ft.ppf(0.95).round(4)\n"
   ]
  },
  {
   "cell_type": "code",
   "execution_count": 19,
   "id": "2a128b09",
   "metadata": {},
   "outputs": [
    {
     "data": {
      "text/plain": [
       "118.70421654401437"
      ]
     },
     "execution_count": 19,
     "metadata": {},
     "output_type": "execute_result"
    }
   ],
   "source": [
    "#ANOVA\n",
    "import scipy.stats as stats\n",
    "Fcalc, p = stats.f_oneway(df.iloc[:,0], df.iloc[:,1], df.iloc[:,2], df.iloc[:,3])\n",
    "Fcalc"
   ]
  },
  {
   "cell_type": "code",
   "execution_count": 20,
   "id": "7887a3c0",
   "metadata": {},
   "outputs": [
    {
     "name": "stdout",
     "output_type": "stream",
     "text": [
      "2.1156708949992414e-57\n",
      "Ho is rejected and H1 is accepted\n"
     ]
    }
   ],
   "source": [
    "alpha = 0.05\n",
    "print(p)\n",
    "if p < alpha:\n",
    "    print(\"Ho is rejected and H1 is accepted\")\n",
    "else:\n",
    "    print(\"H1 is rejected and H0 is accepted\")\n"
   ]
  },
  {
   "cell_type": "code",
   "execution_count": null,
   "id": "27628352",
   "metadata": {},
   "outputs": [],
   "source": [
    "Results :\n",
    "Hence, from the above calculations we can see Fcalc = 118.7042 and p-value = 2.12E-57 i.e., 0.00 which is less than the \n",
    "significance level that is alpha(0.05).\n",
    "pvalue<alpha (0.00<0.05)\n",
    "Hence, rejected null hypothesis i.e., H1 is accepted.\n",
    "\n",
    "Statistically, all the average TAT of the laboratories are not same. There is the significance difference among the averages.\n"
   ]
  },
  {
   "cell_type": "code",
   "execution_count": null,
   "id": "d8b35123",
   "metadata": {},
   "outputs": [],
   "source": [
    "Q3.Sales of products in four different regions is tabulated for males and females. Find if male-female buyer rations are \n",
    "similar across regions.\n",
    "Minitab File: BuyerRatio.mtw\n",
    "\n",
    "Solution: \n",
    "Here we will use Chi-square hypothesis test.\n",
    "\n",
    "Hypothesis:\n",
    "Null hypothesis(H0): The male female buyer ratios are similar across all the regions i.e., all the proportions are equal.\n",
    "Alternate hypothesis(H1): The male female buyer ratios not similar across all the regions i.e.,\n",
    "not all the proportions are equal.\n"
   ]
  },
  {
   "cell_type": "code",
   "execution_count": 1,
   "id": "886c42ee",
   "metadata": {},
   "outputs": [],
   "source": [
    "import numpy as np\n",
    "import pandas as pd\n",
    "from scipy.stats import chi2_contingency"
   ]
  },
  {
   "cell_type": "code",
   "execution_count": 2,
   "id": "0caa3f25",
   "metadata": {},
   "outputs": [],
   "source": [
    "df = pd.read_csv(\"D:\\\\Assignment datasets\\\\BuyerRatio.csv\")"
   ]
  },
  {
   "cell_type": "code",
   "execution_count": 3,
   "id": "d0e69b17",
   "metadata": {},
   "outputs": [
    {
     "data": {
      "text/html": [
       "<div>\n",
       "<style scoped>\n",
       "    .dataframe tbody tr th:only-of-type {\n",
       "        vertical-align: middle;\n",
       "    }\n",
       "\n",
       "    .dataframe tbody tr th {\n",
       "        vertical-align: top;\n",
       "    }\n",
       "\n",
       "    .dataframe thead th {\n",
       "        text-align: right;\n",
       "    }\n",
       "</style>\n",
       "<table border=\"1\" class=\"dataframe\">\n",
       "  <thead>\n",
       "    <tr style=\"text-align: right;\">\n",
       "      <th></th>\n",
       "      <th>Observed Values</th>\n",
       "      <th>East</th>\n",
       "      <th>West</th>\n",
       "      <th>North</th>\n",
       "      <th>South</th>\n",
       "    </tr>\n",
       "  </thead>\n",
       "  <tbody>\n",
       "    <tr>\n",
       "      <th>0</th>\n",
       "      <td>Males</td>\n",
       "      <td>50</td>\n",
       "      <td>142</td>\n",
       "      <td>131</td>\n",
       "      <td>70</td>\n",
       "    </tr>\n",
       "    <tr>\n",
       "      <th>1</th>\n",
       "      <td>Females</td>\n",
       "      <td>435</td>\n",
       "      <td>1523</td>\n",
       "      <td>1356</td>\n",
       "      <td>750</td>\n",
       "    </tr>\n",
       "  </tbody>\n",
       "</table>\n",
       "</div>"
      ],
      "text/plain": [
       "  Observed Values  East  West  North  South\n",
       "0           Males    50   142    131     70\n",
       "1         Females   435  1523   1356    750"
      ]
     },
     "execution_count": 3,
     "metadata": {},
     "output_type": "execute_result"
    }
   ],
   "source": [
    "df.head()"
   ]
  },
  {
   "cell_type": "code",
   "execution_count": 4,
   "id": "2383f434",
   "metadata": {},
   "outputs": [],
   "source": [
    "observed = np.array([[50,142,131,70], [435,1523,1356,750]])"
   ]
  },
  {
   "cell_type": "code",
   "execution_count": 5,
   "id": "9639d530",
   "metadata": {},
   "outputs": [],
   "source": [
    "chi_val, p_val, dof, expected = chi2_contingency(observed)"
   ]
  },
  {
   "cell_type": "code",
   "execution_count": 6,
   "id": "59826718",
   "metadata": {},
   "outputs": [
    {
     "data": {
      "text/plain": [
       "(1.595945538661058,\n",
       " 0.6603094907091882,\n",
       " 3,\n",
       " array([[  42.76531299,  146.81287862,  131.11756787,   72.30424052],\n",
       "        [ 442.23468701, 1518.18712138, 1355.88243213,  747.69575948]]))"
      ]
     },
     "execution_count": 6,
     "metadata": {},
     "output_type": "execute_result"
    }
   ],
   "source": [
    "chi_val, p_val, dof, expected"
   ]
  },
  {
   "cell_type": "code",
   "execution_count": 7,
   "id": "56d4982e",
   "metadata": {},
   "outputs": [
    {
     "data": {
      "text/plain": [
       "(1.595945538661058,\n",
       " 0.6603094907091882,\n",
       " 3,\n",
       " array([[  42.76531299,  146.81287862,  131.11756787,   72.30424052],\n",
       "        [ 442.23468701, 1518.18712138, 1355.88243213,  747.69575948]]))"
      ]
     },
     "execution_count": 7,
     "metadata": {},
     "output_type": "execute_result"
    }
   ],
   "source": [
    "chi_val, p_val, dof, expected = chi2_contingency(observed, correction=False)\n",
    "chi_val, p_val, dof, expected "
   ]
  },
  {
   "cell_type": "code",
   "execution_count": 8,
   "id": "b08a3a60",
   "metadata": {},
   "outputs": [
    {
     "name": "stdout",
     "output_type": "stream",
     "text": [
      "H1 is rejected and Ho is accepted\n"
     ]
    }
   ],
   "source": [
    "alpha=0.05\n",
    "\n",
    "if 0.66<alpha:\n",
    "    print(\"Ho is rejected and H1 is accepted\")\n",
    "else:\n",
    "    print(\"H1 is rejected and Ho is accepted\")\n"
   ]
  },
  {
   "cell_type": "code",
   "execution_count": 10,
   "id": "6a7afded",
   "metadata": {},
   "outputs": [
    {
     "data": {
      "text/plain": [
       "7.8147"
      ]
     },
     "execution_count": 10,
     "metadata": {},
     "output_type": "execute_result"
    }
   ],
   "source": [
    "#chi square table value\n",
    "import scipy.stats as stats\n",
    "chi_table=stats.chi2.ppf(q=0.95, df=3)\n",
    "chi_table.round(4)\n",
    "\n"
   ]
  },
  {
   "cell_type": "code",
   "execution_count": null,
   "id": "d6affeb6",
   "metadata": {},
   "outputs": [],
   "source": [
    "Results:\n",
    "\n",
    "As we can see above p value is greater than alpha hence we will fail to reject H0 (null hypothesis) here.\n",
    "pvalue > alpha (0.66>0.05)\n",
    "\n",
    "Accept H0 =>  The male female buyer ratios are similar across the regions i.e., All the proportions are equal."
   ]
  },
  {
   "cell_type": "code",
   "execution_count": null,
   "id": "fa516f4d",
   "metadata": {},
   "outputs": [],
   "source": [
    "Q4.TeleCall uses 4 centers around the globe to process customer order forms. They audit a certain %  of the customer order forms.\n",
    "Any error in order form renders it defective and has to be reworked before processing.  The manager wants to check whether the\n",
    "defective %  varies by centre. Please analyze the data at 5% significance level and help the manager draw appropriate\n",
    "inferences\n",
    "\n",
    "Minitab File: CustomerOrderForm.mtw\n",
    " \n",
    "\n",
    "Solution: \n",
    "Here we will use Chi-square hypothesis test.\n",
    "\n",
    "Hypothesis:\n",
    "Null hypothesis(H0): The defective % does not vary by centre / the variables are independent\n",
    "Alternate hypothesis(H1): The defective % does vary by centre / the variables are dependent\n",
    "     "
   ]
  },
  {
   "cell_type": "code",
   "execution_count": 30,
   "id": "fd2a4054",
   "metadata": {},
   "outputs": [],
   "source": [
    "import numpy as np\n",
    "import pandas as pd\n",
    "import scipy.stats as stats\n",
    "from scipy import stats\n",
    "from scipy.stats import chi2_contingency"
   ]
  },
  {
   "cell_type": "code",
   "execution_count": 12,
   "id": "cd45731e",
   "metadata": {},
   "outputs": [
    {
     "data": {
      "text/html": [
       "<div>\n",
       "<style scoped>\n",
       "    .dataframe tbody tr th:only-of-type {\n",
       "        vertical-align: middle;\n",
       "    }\n",
       "\n",
       "    .dataframe tbody tr th {\n",
       "        vertical-align: top;\n",
       "    }\n",
       "\n",
       "    .dataframe thead th {\n",
       "        text-align: right;\n",
       "    }\n",
       "</style>\n",
       "<table border=\"1\" class=\"dataframe\">\n",
       "  <thead>\n",
       "    <tr style=\"text-align: right;\">\n",
       "      <th></th>\n",
       "      <th>Phillippines</th>\n",
       "      <th>Indonesia</th>\n",
       "      <th>Malta</th>\n",
       "      <th>India</th>\n",
       "    </tr>\n",
       "  </thead>\n",
       "  <tbody>\n",
       "    <tr>\n",
       "      <th>0</th>\n",
       "      <td>Error Free</td>\n",
       "      <td>Error Free</td>\n",
       "      <td>Defective</td>\n",
       "      <td>Error Free</td>\n",
       "    </tr>\n",
       "    <tr>\n",
       "      <th>1</th>\n",
       "      <td>Error Free</td>\n",
       "      <td>Error Free</td>\n",
       "      <td>Error Free</td>\n",
       "      <td>Defective</td>\n",
       "    </tr>\n",
       "    <tr>\n",
       "      <th>2</th>\n",
       "      <td>Error Free</td>\n",
       "      <td>Defective</td>\n",
       "      <td>Defective</td>\n",
       "      <td>Error Free</td>\n",
       "    </tr>\n",
       "    <tr>\n",
       "      <th>3</th>\n",
       "      <td>Error Free</td>\n",
       "      <td>Error Free</td>\n",
       "      <td>Error Free</td>\n",
       "      <td>Error Free</td>\n",
       "    </tr>\n",
       "    <tr>\n",
       "      <th>4</th>\n",
       "      <td>Error Free</td>\n",
       "      <td>Error Free</td>\n",
       "      <td>Defective</td>\n",
       "      <td>Error Free</td>\n",
       "    </tr>\n",
       "  </tbody>\n",
       "</table>\n",
       "</div>"
      ],
      "text/plain": [
       "  Phillippines   Indonesia       Malta       India\n",
       "0   Error Free  Error Free   Defective  Error Free\n",
       "1   Error Free  Error Free  Error Free   Defective\n",
       "2   Error Free   Defective   Defective  Error Free\n",
       "3   Error Free  Error Free  Error Free  Error Free\n",
       "4   Error Free  Error Free   Defective  Error Free"
      ]
     },
     "execution_count": 12,
     "metadata": {},
     "output_type": "execute_result"
    }
   ],
   "source": [
    "df2 = pd.read_csv(\"D:\\\\Assignment datasets\\\\Costomer+OrderForm.csv\")\n",
    "df2.head()"
   ]
  },
  {
   "cell_type": "code",
   "execution_count": 13,
   "id": "f11af9be",
   "metadata": {},
   "outputs": [
    {
     "data": {
      "text/html": [
       "<div>\n",
       "<style scoped>\n",
       "    .dataframe tbody tr th:only-of-type {\n",
       "        vertical-align: middle;\n",
       "    }\n",
       "\n",
       "    .dataframe tbody tr th {\n",
       "        vertical-align: top;\n",
       "    }\n",
       "\n",
       "    .dataframe thead th {\n",
       "        text-align: right;\n",
       "    }\n",
       "</style>\n",
       "<table border=\"1\" class=\"dataframe\">\n",
       "  <thead>\n",
       "    <tr style=\"text-align: right;\">\n",
       "      <th></th>\n",
       "      <th>Phillippines</th>\n",
       "      <th>Indonesia</th>\n",
       "      <th>Malta</th>\n",
       "      <th>India</th>\n",
       "    </tr>\n",
       "  </thead>\n",
       "  <tbody>\n",
       "    <tr>\n",
       "      <th>count</th>\n",
       "      <td>300</td>\n",
       "      <td>300</td>\n",
       "      <td>300</td>\n",
       "      <td>300</td>\n",
       "    </tr>\n",
       "    <tr>\n",
       "      <th>unique</th>\n",
       "      <td>2</td>\n",
       "      <td>2</td>\n",
       "      <td>2</td>\n",
       "      <td>2</td>\n",
       "    </tr>\n",
       "    <tr>\n",
       "      <th>top</th>\n",
       "      <td>Error Free</td>\n",
       "      <td>Error Free</td>\n",
       "      <td>Error Free</td>\n",
       "      <td>Error Free</td>\n",
       "    </tr>\n",
       "    <tr>\n",
       "      <th>freq</th>\n",
       "      <td>271</td>\n",
       "      <td>267</td>\n",
       "      <td>269</td>\n",
       "      <td>280</td>\n",
       "    </tr>\n",
       "  </tbody>\n",
       "</table>\n",
       "</div>"
      ],
      "text/plain": [
       "       Phillippines   Indonesia       Malta       India\n",
       "count           300         300         300         300\n",
       "unique            2           2           2           2\n",
       "top      Error Free  Error Free  Error Free  Error Free\n",
       "freq            271         267         269         280"
      ]
     },
     "execution_count": 13,
     "metadata": {},
     "output_type": "execute_result"
    }
   ],
   "source": [
    "df2.describe()"
   ]
  },
  {
   "cell_type": "code",
   "execution_count": 14,
   "id": "927a7ffe",
   "metadata": {},
   "outputs": [
    {
     "data": {
      "text/plain": [
       "Phillippines    object\n",
       "Indonesia       object\n",
       "Malta           object\n",
       "India           object\n",
       "dtype: object"
      ]
     },
     "execution_count": 14,
     "metadata": {},
     "output_type": "execute_result"
    }
   ],
   "source": [
    "df2.dtypes"
   ]
  },
  {
   "cell_type": "code",
   "execution_count": 15,
   "id": "cce1da79",
   "metadata": {},
   "outputs": [],
   "source": [
    "table = [[271,267,269,280], [29,33,31,20]]"
   ]
  },
  {
   "cell_type": "code",
   "execution_count": 21,
   "id": "28a3ecbd",
   "metadata": {},
   "outputs": [
    {
     "data": {
      "text/html": [
       "<div>\n",
       "<style scoped>\n",
       "    .dataframe tbody tr th:only-of-type {\n",
       "        vertical-align: middle;\n",
       "    }\n",
       "\n",
       "    .dataframe tbody tr th {\n",
       "        vertical-align: top;\n",
       "    }\n",
       "\n",
       "    .dataframe thead th {\n",
       "        text-align: right;\n",
       "    }\n",
       "</style>\n",
       "<table border=\"1\" class=\"dataframe\">\n",
       "  <thead>\n",
       "    <tr style=\"text-align: right;\">\n",
       "      <th></th>\n",
       "      <th>Phillippines</th>\n",
       "      <th>Indonesia</th>\n",
       "      <th>Malta</th>\n",
       "      <th>India</th>\n",
       "    </tr>\n",
       "  </thead>\n",
       "  <tbody>\n",
       "    <tr>\n",
       "      <th>Error Free</th>\n",
       "      <td>271</td>\n",
       "      <td>267</td>\n",
       "      <td>269</td>\n",
       "      <td>280</td>\n",
       "    </tr>\n",
       "    <tr>\n",
       "      <th>Defective</th>\n",
       "      <td>29</td>\n",
       "      <td>33</td>\n",
       "      <td>31</td>\n",
       "      <td>20</td>\n",
       "    </tr>\n",
       "  </tbody>\n",
       "</table>\n",
       "</div>"
      ],
      "text/plain": [
       "            Phillippines  Indonesia  Malta  India\n",
       "Error Free           271        267    269    280\n",
       "Defective             29         33     31     20"
      ]
     },
     "execution_count": 21,
     "metadata": {},
     "output_type": "execute_result"
    }
   ],
   "source": [
    "data1 = pd.DataFrame([[271,267,269,280], [29,33,31,20]], \n",
    "                     index = ['Error Free', 'Defective'], columns = ['Phillippines', 'Indonesia', 'Malta', 'India'])\n",
    "data1"
   ]
  },
  {
   "cell_type": "code",
   "execution_count": 33,
   "id": "de38dca3",
   "metadata": {},
   "outputs": [],
   "source": [
    "observed = np.array([[271,267,269,280], [29,33,31,20]])"
   ]
  },
  {
   "cell_type": "code",
   "execution_count": 34,
   "id": "d4560091",
   "metadata": {},
   "outputs": [],
   "source": [
    "chi_val, p_val, dof, expected = chi2_contingency(observed)"
   ]
  },
  {
   "cell_type": "code",
   "execution_count": 35,
   "id": "0a936ca7",
   "metadata": {},
   "outputs": [
    {
     "data": {
      "text/plain": [
       "(3.858960685820355,\n",
       " 0.2771020991233135,\n",
       " 3,\n",
       " array([[271.75, 271.75, 271.75, 271.75],\n",
       "        [ 28.25,  28.25,  28.25,  28.25]]))"
      ]
     },
     "execution_count": 35,
     "metadata": {},
     "output_type": "execute_result"
    }
   ],
   "source": [
    "chi_val, p_val, dof, expected "
   ]
  },
  {
   "cell_type": "code",
   "execution_count": 36,
   "id": "c8900e51",
   "metadata": {},
   "outputs": [
    {
     "name": "stdout",
     "output_type": "stream",
     "text": [
      "H1 is rejected and Ho is accepted\n"
     ]
    }
   ],
   "source": [
    "alpha=0.05\n",
    "\n",
    "if 0.277<alpha:\n",
    "    print(\"Ho is rejected and H1 is accepted\")\n",
    "else:\n",
    "    print(\"H1 is rejected and Ho is accepted\")\n"
   ]
  },
  {
   "cell_type": "code",
   "execution_count": 37,
   "id": "b6f7a21a",
   "metadata": {},
   "outputs": [
    {
     "data": {
      "text/plain": [
       "7.8147"
      ]
     },
     "execution_count": 37,
     "metadata": {},
     "output_type": "execute_result"
    }
   ],
   "source": [
    "#chi square table value\n",
    "import scipy.stats as stats\n",
    "chi_table=stats.chi2.ppf(q=0.95, df=3)\n",
    "chi_table.round(4)\n"
   ]
  },
  {
   "cell_type": "code",
   "execution_count": null,
   "id": "4ef4613d",
   "metadata": {},
   "outputs": [],
   "source": [
    "Results:\n",
    "As we can see above p value is greater than alpha hence we will fail to reject H0 (null hypothesis) here.\n",
    "pvalue > alpha (0.277>0.05)\n",
    "\n",
    "Accept Null hypothesis(H0): The defective % does not vary by centre / the variables are independent"
   ]
  }
 ],
 "metadata": {
  "kernelspec": {
   "display_name": "Python 3 (ipykernel)",
   "language": "python",
   "name": "python3"
  },
  "language_info": {
   "codemirror_mode": {
    "name": "ipython",
    "version": 3
   },
   "file_extension": ".py",
   "mimetype": "text/x-python",
   "name": "python",
   "nbconvert_exporter": "python",
   "pygments_lexer": "ipython3",
   "version": "3.9.12"
  },
  "widgets": {
   "application/vnd.jupyter.widget-state+json": {
    "state": {},
    "version_major": 2,
    "version_minor": 0
   }
  }
 },
 "nbformat": 4,
 "nbformat_minor": 5
}
